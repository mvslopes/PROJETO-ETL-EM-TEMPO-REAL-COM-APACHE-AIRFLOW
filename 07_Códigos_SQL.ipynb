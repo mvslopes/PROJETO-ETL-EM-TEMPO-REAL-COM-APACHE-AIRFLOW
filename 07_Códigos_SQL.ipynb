{
  "nbformat": 4,
  "nbformat_minor": 0,
  "metadata": {
    "colab": {
      "provenance": [],
      "authorship_tag": "ABX9TyPuqMKhB4YrZgPeGOHDNFIm"
    },
    "kernelspec": {
      "name": "python3",
      "display_name": "Python 3"
    },
    "language_info": {
      "name": "python"
    }
  },
  "cells": [
    {
      "cell_type": "markdown",
      "source": [
        "##**Código SQL**\n",
        "\n",
        "\n",
        "\n"
      ],
      "metadata": {
        "id": "bQVxJN92XFJY"
      }
    },
    {
      "cell_type": "markdown",
      "source": [],
      "metadata": {
        "id": "bsqRb0s2MVkz"
      }
    },
    {
      "cell_type": "code",
      "source": [
        "DROP TABLE lab6.\"TB_FATO\";\n",
        "DROP TABLE lab6.\"DIM_CLIENTE\";\n",
        "DROP TABLE lab6.\"DIM_TRANSPORTADORA\";\n",
        "DROP TABLE lab6.\"DIM_DEPOSITO\";\n",
        "DROP TABLE lab6.\"DIM_ENTREGA\";\n",
        "DROP TABLE lab6.\"DIM_PAGAMENTO\";\n",
        "DROP TABLE lab6.\"DIM_FRETE\";\n",
        "DROP TABLE lab6.\"DIM_DATA\";\n",
        "\n",
        "\n",
        "CREATE TABLE lab6.DIM_CLIENTE\n",
        "(\n",
        "    id_cliente int NOT NULL,\n",
        "    nome_cliente text,\n",
        "    sobrenome_cliente text,\n",
        "    PRIMARY KEY (id_cliente)\n",
        ");\n",
        "\n",
        "\n",
        "CREATE TABLE lab6.DIM_TRANSPORTADORA\n",
        "(\n",
        "    id_transportadora integer NOT NULL,\n",
        "    nome_transportadora text,\n",
        "    PRIMARY KEY (id_transportadora)\n",
        ");\n",
        "\n",
        "\n",
        "CREATE TABLE lab6.DIM_DEPOSITO\n",
        "(\n",
        "    id_deposito bigint NOT NULL,\n",
        "    nome_deposito text,\n",
        "    PRIMARY KEY (id_deposito)\n",
        ");\n",
        "\n",
        "\n",
        "CREATE TABLE lab6.DIM_ENTREGA\n",
        "(\n",
        "    id_entrega bigint NOT NULL,\n",
        "    endereco_entrega text,\n",
        "    pais_entrega text,\n",
        "    PRIMARY KEY (id_entrega)\n",
        ");\n",
        "\n",
        "\n",
        "CREATE TABLE lab6.DIM_PAGAMENTO\n",
        "(\n",
        "    id_pagamento bigint NOT NULL,\n",
        "    tipo_pagamento text,\n",
        "    PRIMARY KEY (id_pagamento)\n",
        ");\n",
        "\n",
        "\n",
        "CREATE TABLE lab6.DIM_FRETE\n",
        "(\n",
        "    id_frete bigint NOT NULL,\n",
        "    tipo_frete text,\n",
        "    PRIMARY KEY (id_frete)\n",
        ");\n",
        "\n",
        "\n",
        "CREATE TABLE lab6.DIM_DATA\n",
        "(\n",
        "    id_data bigint NOT NULL,\n",
        "    data_completa text,\n",
        "    dia integer,\n",
        "    mes integer,\n",
        "    ano integer,\n",
        "    PRIMARY KEY (id_data)\n",
        ");\n",
        "\n",
        "\n",
        "CREATE TABLE lab6.TB_FATO\n",
        "(\n",
        "    id_cliente integer,\n",
        "    id_transportadora integer,\n",
        "    id_deposito integer,\n",
        "    id_entrega integer,\n",
        "    id_pagamento integer,\n",
        "    id_frete integer,\n",
        "    id_data integer,\n",
        "    valor_entrega double precision,\n",
        "    PRIMARY KEY (id_cliente, id_transportadora, id_deposito, id_entrega, id_pagamento, id_frete, id_data)\n",
        ");\n"
      ],
      "metadata": {
        "id": "fATmxRL6PJR0"
      },
      "execution_count": null,
      "outputs": []
    },
    {
      "cell_type": "markdown",
      "source": [
        "---"
      ],
      "metadata": {
        "id": "Sj8zpDk2P3Bj"
      }
    },
    {
      "cell_type": "code",
      "source": [
        "ALTER TABLE IF EXISTS lab6.\"TB_FATO\"\n",
        "    ADD CONSTRAINT \"FK_CLIENTE\" FOREIGN KEY (id_cliente)\n",
        "    REFERENCES lab6.\"DIM_CLIENTE\" (id_cliente) MATCH SIMPLE\n",
        "    ON UPDATE NO ACTION\n",
        "    ON DELETE NO ACTION;\n",
        "\n",
        "\n",
        "ALTER TABLE IF EXISTS lab6.\"TB_FATO\"\n",
        "    ADD CONSTRAINT \"FK_TRANSPORTADORA\" FOREIGN KEY (id_transportadora)\n",
        "    REFERENCES lab6.\"DIM_TRANSPORTADORA\" (id_transportadora) MATCH SIMPLE\n",
        "    ON UPDATE NO ACTION\n",
        "    ON DELETE NO ACTION;\n",
        "\n",
        "\n",
        "ALTER TABLE IF EXISTS lab6.\"TB_FATO\"\n",
        "    ADD CONSTRAINT \"FK_DEPOSITO\" FOREIGN KEY (id_deposito)\n",
        "    REFERENCES lab6.\"DIM_DEPOSITO\" (id_deposito) MATCH SIMPLE\n",
        "    ON UPDATE NO ACTION\n",
        "    ON DELETE NO ACTION;\n",
        "\n",
        "\n",
        "ALTER TABLE IF EXISTS lab6.\"TB_FATO\"\n",
        "    ADD CONSTRAINT \"FK_ENTREGA\" FOREIGN KEY (id_entrega)\n",
        "    REFERENCES lab6.\"DIM_ENTREGA\" (id_entrega) MATCH SIMPLE\n",
        "    ON UPDATE NO ACTION\n",
        "    ON DELETE NO ACTION;\n",
        "\n",
        "\n",
        "ALTER TABLE IF EXISTS lab6.\"TB_FATO\"\n",
        "    ADD CONSTRAINT \"FK_PAGAMENTO\" FOREIGN KEY (id_pagamento)\n",
        "    REFERENCES lab6.\"DIM_PAGAMENTO\" (id_pagamento) MATCH SIMPLE\n",
        "    ON UPDATE NO ACTION\n",
        "    ON DELETE NO ACTION;\n",
        "\n",
        "\n",
        "ALTER TABLE IF EXISTS lab6.\"TB_FATO\"\n",
        "    ADD CONSTRAINT \"FK_FRETE\" FOREIGN KEY (id_frete)\n",
        "    REFERENCES lab6.\"DIM_FRETE\" (id_frete) MATCH SIMPLE\n",
        "    ON UPDATE NO ACTION\n",
        "    ON DELETE NO ACTION;\n",
        "\n",
        "\n",
        "ALTER TABLE IF EXISTS lab6.\"TB_FATO\"\n",
        "    ADD CONSTRAINT \"FK_DATA\" FOREIGN KEY (id_data)\n",
        "    REFERENCES lab6.\"DIM_DATA\" (id_data) MATCH SIMPLE\n",
        "    ON UPDATE NO ACTION\n",
        "    ON DELETE NO ACTION;\n"
      ],
      "metadata": {
        "id": "-7IEaQOBP5Yq"
      },
      "execution_count": null,
      "outputs": []
    }
  ]
}